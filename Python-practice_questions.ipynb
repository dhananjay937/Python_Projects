{
 "cells": [
  {
   "cell_type": "code",
   "execution_count": 9,
   "id": "1fe72f46-4b62-4161-bb76-7b89b80584d0",
   "metadata": {},
   "outputs": [
    {
     "name": "stdout",
     "output_type": "stream",
     "text": [
      "Dhanajay\n"
     ]
    }
   ],
   "source": [
    "Name = [\"Dhanajay\",\"Patil\"]\n",
    "#First_name = Name[0]\n",
    "#last_name = Name[1]\n",
    "#print(First_name)\n",
    "\n",
    "x,y = Name\n",
    "print(x)"
   ]
  },
  {
   "cell_type": "markdown",
   "id": "e3c447ca-11f3-41ce-89a0-fe204ee98585",
   "metadata": {},
   "source": [
    "### Exercise"
   ]
  },
  {
   "cell_type": "code",
   "execution_count": 32,
   "id": "18504b48-ff10-450d-bcc4-2dae5743d6a4",
   "metadata": {},
   "outputs": [
    {
     "name": "stdout",
     "output_type": "stream",
     "text": [
      "30\n",
      "500\n",
      "5\n",
      "0.8888888888888888\n",
      "80\n"
     ]
    }
   ],
   "source": [
    "a,b,c,d,e,f,g,h,i,j = 5,10,15,20,25,30,25,40,45,50\n",
    "\n",
    "sum_abc = a+b+c  \n",
    "print(sum_abc)\n",
    "\n",
    "pro_de = d*e\n",
    "print(pro_de)\n",
    "\n",
    "diff_fg = f-g\n",
    "print(diff_fg)\n",
    "\n",
    "div_hi = h/i\n",
    "print(div_hi)\n",
    "\n",
    "final_result = sum_abc +j\n",
    "print(final_result)\n",
    "\n"
   ]
  },
  {
   "cell_type": "code",
   "execution_count": null,
   "id": "762927f0-db45-4815-abec-b49a700c27a0",
   "metadata": {},
   "outputs": [],
   "source": []
  },
  {
   "cell_type": "code",
   "execution_count": 34,
   "id": "62796682-6964-4434-beaf-696ab89d6835",
   "metadata": {},
   "outputs": [
    {
     "name": "stdout",
     "output_type": "stream",
     "text": [
      "20\n",
      "40\n",
      "2.4\n"
     ]
    }
   ],
   "source": [
    "# 2 arithmetic operation\n",
    "\n",
    "x,y,z = 12,8,5\n",
    "\n",
    "print(x+y)\n",
    "print(y*z)\n",
    "print(x/z)"
   ]
  },
  {
   "cell_type": "code",
   "execution_count": 64,
   "id": "1406f9cd-86ba-488e-8574-faa116e5ec4b",
   "metadata": {},
   "outputs": [
    {
     "name": "stdout",
     "output_type": "stream",
     "text": [
      "a=  30\n",
      "b 15\n"
     ]
    }
   ],
   "source": [
    "# 3 Swapping \n",
    "\n",
    "a,b = 15,30\n",
    "c\n",
    "\n",
    "#c = a\n",
    "#a = b\n",
    "#b = c\n",
    "\n",
    "#print(a,b)\n",
    "\n",
    "print( \"a\", b)\n",
    "print(\"b\", a)"
   ]
  },
  {
   "cell_type": "code",
   "execution_count": 56,
   "id": "e9c37ece-7b60-44d0-9eae-f494b9433bd6",
   "metadata": {},
   "outputs": [
    {
     "name": "stdout",
     "output_type": "stream",
     "text": [
      "15.0\n"
     ]
    }
   ],
   "source": [
    "#average no :\n",
    "\n",
    "a,b,c,d,e = 5,10,15,20,25 \n",
    "\n",
    "print((a+b+c+d+e)/5)"
   ]
  },
  {
   "cell_type": "code",
   "execution_count": 60,
   "id": "d6ca7c5d-fd9f-45ad-be10-78dab0d72b7b",
   "metadata": {},
   "outputs": [
    {
     "name": "stdout",
     "output_type": "stream",
     "text": [
      "98\n"
     ]
    }
   ],
   "source": [
    "#area of rectangle\n",
    "\n",
    "length = 14\n",
    "breadth = 7 \n",
    "\n",
    "area_of_rectangle = length * breadth\n",
    "\n",
    "print(area_of_rectangle)"
   ]
  },
  {
   "cell_type": "code",
   "execution_count": 62,
   "id": "841615ea-c866-48c2-bbda-0cc89cb0faf0",
   "metadata": {},
   "outputs": [
    {
     "name": "stdout",
     "output_type": "stream",
     "text": [
      "77.0\n"
     ]
    }
   ],
   "source": [
    "# celsius to fahrenheit\n",
    "\n",
    "celsisus  = 25\n",
    "\n",
    "fahrenheit  =  (celsisus * (9/5)) + 32\n",
    "\n",
    "print(fahrenheit)"
   ]
  },
  {
   "cell_type": "code",
   "execution_count": 68,
   "id": "d88e3f65-b56d-4894-9c02-a7c28d7fa2c8",
   "metadata": {},
   "outputs": [
    {
     "name": "stdout",
     "output_type": "stream",
     "text": [
      "100.0\n"
     ]
    }
   ],
   "source": [
    "# simple interest  calculation\n",
    "principal,rate,time = 1000,5,2\n",
    "simple_interest =  ((principal*rate*time)/100)\n",
    "print(simple_interest)"
   ]
  },
  {
   "cell_type": "code",
   "execution_count": 84,
   "id": "e9a2d3e0-9a2f-4d90-843c-2fc167c25de4",
   "metadata": {},
   "outputs": [
    {
     "name": "stdout",
     "output_type": "stream",
     "text": [
      "b is greater\n"
     ]
    }
   ],
   "source": [
    "# maximum of three no \n",
    "\n",
    "a,b,c = 18,25,22\n",
    "\n",
    "if a>b:\n",
    "    print(\"a is greater\")\n",
    "elif c>b: \n",
    "    print(\"c is greater\")\n",
    "else:\n",
    "    print(\"b is greater\")"
   ]
  },
  {
   "cell_type": "code",
   "execution_count": 86,
   "id": "95e08c93-098a-4197-80ba-3b338ed823f9",
   "metadata": {},
   "outputs": [
    {
     "name": "stdout",
     "output_type": "stream",
     "text": [
      "perimeter of circle :  43.96\n"
     ]
    }
   ],
   "source": [
    "# perimeter of circle \n",
    "\n",
    "r = 7\n",
    "pi = 3.14\n",
    "\n",
    "perimeter = 2*pi*r\n",
    "\n",
    "print(\"perimeter of circle : \", perimeter)"
   ]
  },
  {
   "cell_type": "code",
   "execution_count": 3,
   "id": "cef93f81-d55e-443f-b794-5fe655f0552c",
   "metadata": {},
   "outputs": [
    {
     "name": "stdout",
     "output_type": "stream",
     "text": [
      "it's is even No\n"
     ]
    }
   ],
   "source": [
    "#even odd\n",
    "num = 44\n",
    "\n",
    "if num % 2 == 0:\n",
    "    print(\"it's is even No\")\n",
    "else:\n",
    "    print(\"it's is odd No\")"
   ]
  },
  {
   "cell_type": "code",
   "execution_count": 21,
   "id": "bf68c0bd-da56-47b1-9784-b6da503a33a5",
   "metadata": {},
   "outputs": [
    {
     "name": "stdout",
     "output_type": "stream",
     "text": [
      "Dhananjay Patil\n"
     ]
    }
   ],
   "source": [
    "# string concatenation \n",
    "\n",
    "First_name = \"Dhananjay\"\n",
    "Last_name = \"Patil\"\n",
    "Full_name = \" \".join([First_name,Last_name])\n",
    "print(Full_name)"
   ]
  },
  {
   "cell_type": "code",
   "execution_count": 35,
   "id": "96f64692-6410-45e9-bedb-429c4e2bd90d",
   "metadata": {},
   "outputs": [
    {
     "name": "stdout",
     "output_type": "stream",
     "text": [
      "6\n"
     ]
    }
   ],
   "source": [
    "# sum of digit\n",
    "num = 123\n",
    "sum = 0\n",
    "num_str = str(num)\n",
    "for i in num_str:\n",
    "    digit = int(i)\n",
    "    sum += digit\n",
    "print(sum)\n",
    "\n",
    "#sum_digits = sum(int(digit) for digit in str(number))"
   ]
  },
  {
   "cell_type": "code",
   "execution_count": 81,
   "id": "5d45e6f4-89de-4c60-b4e1-e0b09ec3b971",
   "metadata": {},
   "outputs": [
    {
     "name": "stdout",
     "output_type": "stream",
     "text": [
      " the two real no are :  4.0 3.0\n"
     ]
    }
   ],
   "source": [
    "#quadratic equation\n",
    "\n",
    "import math\n",
    "\n",
    "a = 1\n",
    "b = -7\n",
    "c = 12\n",
    "\n",
    "# Calculate the discriminant\n",
    "discriminant = b**2 - 4*a*c\n",
    "\n",
    "# Check the nature of the discriminant and calculate roots\n",
    "if discriminant > 0:\n",
    "    root1 = (-b + math.sqrt(discriminant)) / (2*a)\n",
    "    root2 = (-b - math.sqrt(discriminant)) / (2*a)\n",
    "    print( \" the two real no are : \",root1, root2)\n",
    "elif discriminant == 0:\n",
    "    root = -b / (2*a)\n",
    "    print(\"One real root:\",root)\n",
    "else:\n",
    "    real_part = -b / (2*a)\n",
    "    imaginary_part = math.sqrt(-discriminant) / (2*a)\n",
    "    print(\"Two complex roots:\" , real_part + imaginary_part,\"i\", \"and\" ,real_part - imaginary_part, \"i\")\n"
   ]
  },
  {
   "cell_type": "code",
   "execution_count": 84,
   "id": "6d42fc96-b7cd-489d-a4c9-7b80c1256b2f",
   "metadata": {},
   "outputs": [
    {
     "name": "stdout",
     "output_type": "stream",
     "text": [
      "5.0\n"
     ]
    }
   ],
   "source": [
    "# distance between two points\n",
    "import math\n",
    "x1 = 3\n",
    "x2 = 7\n",
    "y1,y2 = 4,1\n",
    "\n",
    "distance = math.sqrt((x2 - x1)**2 + (y2 - y1)**2)\n",
    "\n",
    "print(distance)"
   ]
  },
  {
   "cell_type": "code",
   "execution_count": 86,
   "id": "688677b4-7941-4524-8cb2-a8340ef2baaa",
   "metadata": {},
   "outputs": [
    {
     "name": "stdout",
     "output_type": "stream",
     "text": [
      "The factorial of 5 is: 120\n"
     ]
    }
   ],
   "source": [
    "# factorial \n",
    "\n",
    "n = 5\n",
    "\n",
    "factorial = 1\n",
    "\n",
    "for i in range(1, n + 1):\n",
    "    factorial *= i\n",
    "print(\"The factorial of\", 5 ,\"is:\",factorial)"
   ]
  },
  {
   "cell_type": "code",
   "execution_count": 100,
   "id": "7939c81f-4de7-4303-918c-8f872698db0b",
   "metadata": {},
   "outputs": [
    {
     "data": {
      "text/plain": [
       "'nohtyP'"
      ]
     },
     "execution_count": 100,
     "metadata": {},
     "output_type": "execute_result"
    }
   ],
   "source": [
    "# reverse sring\n",
    "\n",
    "text = \"Python\"\n",
    "reversed = \"\"\n",
    "for i in text:\n",
    "    reversed = i + reversed\n",
    "\n",
    "reversed\n",
    "\n",
    "#print(text[::-1])"
   ]
  },
  {
   "cell_type": "code",
   "execution_count": 156,
   "id": "c1cc1770-819f-48dc-9cd0-215ca1dcfed1",
   "metadata": {},
   "outputs": [
    {
     "name": "stdout",
     "output_type": "stream",
     "text": [
      "55\n"
     ]
    }
   ],
   "source": [
    "# sum of first n natural no\n",
    "n = 10\n",
    "sum = 0\n",
    "sum = n * (n + 1) // 2\n",
    "print(sum)\n",
    "\n"
   ]
  },
  {
   "cell_type": "code",
   "execution_count": 158,
   "id": "c9055718-b109-41d0-ba40-50b0d9c28534",
   "metadata": {},
   "outputs": [
    {
     "name": "stdout",
     "output_type": "stream",
     "text": [
      "3\n"
     ]
    }
   ],
   "source": [
    "# count vowels in string\n",
    "\n",
    "text = \"Hello World\"\n",
    "vowels = \"aeiouAEIOU\"\n",
    "count = 0\n",
    "for i in text :\n",
    "    if i in vowels:\n",
    "        count += 1\n",
    "print(count)"
   ]
  },
  {
   "cell_type": "code",
   "execution_count": 160,
   "id": "1a9ab3f5-0284-4f72-b850-2a2a7a078fd3",
   "metadata": {},
   "outputs": [
    {
     "name": "stdout",
     "output_type": "stream",
     "text": [
      " The year is leap year.\n"
     ]
    }
   ],
   "source": [
    "# check leap year\n",
    "year = 2024\n",
    "\n",
    "if (year % 4 == 0):\n",
    "    if (year % 100 == 0):\n",
    "        if (year % 400 == 0):\n",
    "            print(\" The year is leap year.\")\n",
    "        else:\n",
    "            print(\" The year is not leap year.\")\n",
    "    else:\n",
    "        print(\" The year is leap year.\")\n",
    "else:\n",
    "    print(\" The year is not leap year.\")"
   ]
  },
  {
   "cell_type": "code",
   "execution_count": 162,
   "id": "e4068803-ed3c-444e-973f-16ed69ae1452",
   "metadata": {
    "scrolled": true
   },
   "outputs": [
    {
     "name": "stdout",
     "output_type": "stream",
     "text": [
      "30\n"
     ]
    }
   ],
   "source": [
    "# sum of list\n",
    "\n",
    "numbers = [2,4,6,8,10]\n",
    "sum = 0\n",
    "for i in numbers:\n",
    "    sum += i\n",
    "print(sum)"
   ]
  },
  {
   "cell_type": "code",
   "execution_count": 168,
   "id": "9f6b7867-33e5-4314-a270-798790245d64",
   "metadata": {},
   "outputs": [
    {
     "name": "stdout",
     "output_type": "stream",
     "text": [
      "TEXT :  radar\n",
      "REVERSED :  radar\n",
      "The string is a palindrome\n"
     ]
    }
   ],
   "source": [
    "# palindrome check\n",
    "text = \"radar\"\n",
    "reversed = \"\"\n",
    "for i in text:\n",
    "    reversed = i + reversed\n",
    "print(\"TEXT : \",text)\n",
    "print(\"REVERSED : \",reversed)\n",
    "\n",
    "if text == reversed:\n",
    "    print(\"The string is a palindrome\")\n",
    "else:\n",
    "    print(\"The string is not a palindrome\")"
   ]
  },
  {
   "cell_type": "code",
   "execution_count": null,
   "id": "761832ae-f1d7-4544-ab20-dbdec99106c3",
   "metadata": {},
   "outputs": [],
   "source": []
  },
  {
   "cell_type": "code",
   "execution_count": null,
   "id": "b7b9b42f-648e-4bd0-b051-47916a96cde1",
   "metadata": {},
   "outputs": [],
   "source": []
  },
  {
   "cell_type": "code",
   "execution_count": null,
   "id": "1fecf363-95dc-4730-8964-2356cca9765b",
   "metadata": {},
   "outputs": [],
   "source": []
  }
 ],
 "metadata": {
  "kernelspec": {
   "display_name": "Python 3 (ipykernel)",
   "language": "python",
   "name": "python3"
  },
  "language_info": {
   "codemirror_mode": {
    "name": "ipython",
    "version": 3
   },
   "file_extension": ".py",
   "mimetype": "text/x-python",
   "name": "python",
   "nbconvert_exporter": "python",
   "pygments_lexer": "ipython3",
   "version": "3.11.5"
  }
 },
 "nbformat": 4,
 "nbformat_minor": 5
}
